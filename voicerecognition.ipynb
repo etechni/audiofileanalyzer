{
 "cells": [
  {
   "cell_type": "markdown",
   "metadata": {},
   "source": [
    "## Analyze the voice note's speech quality indicators,using existing APIs, libraries.\n",
    "#"
   ]
  },
  {
   "cell_type": "code",
   "execution_count": 1,
   "metadata": {},
   "outputs": [],
   "source": [
    "#pip install SpeechRecognition "
   ]
  },
  {
   "cell_type": "code",
   "execution_count": 2,
   "metadata": {},
   "outputs": [],
   "source": [
    "#pip install pydub\n"
   ]
  },
  {
   "cell_type": "code",
   "execution_count": 3,
   "metadata": {},
   "outputs": [],
   "source": [
    "#pip install ffmpy"
   ]
  },
  {
   "cell_type": "code",
   "execution_count": 4,
   "metadata": {},
   "outputs": [],
   "source": [
    "#pip install FFmpeg"
   ]
  },
  {
   "cell_type": "code",
   "execution_count": 5,
   "metadata": {},
   "outputs": [
    {
     "name": "stdout",
     "output_type": "stream",
     "text": [
      "Requirement already satisfied: mutagen in c:\\users\\srkpo\\anaconda3\\lib\\site-packages (1.45.1)\n",
      "Note: you may need to restart the kernel to use updated packages.\n"
     ]
    }
   ],
   "source": [
    "pip install mutagen"
   ]
  },
  {
   "cell_type": "code",
   "execution_count": 6,
   "metadata": {},
   "outputs": [],
   "source": [
    "import os\n",
    "import numpy as np\n",
    "import mutagen as mg\n",
    "from mutagen.wave import WAVE"
   ]
  },
  {
   "cell_type": "code",
   "execution_count": 7,
   "metadata": {},
   "outputs": [],
   "source": [
    "import speech_recognition as sr"
   ]
  },
  {
   "cell_type": "code",
   "execution_count": 8,
   "metadata": {},
   "outputs": [
    {
     "name": "stdout",
     "output_type": "stream",
     "text": [
      "188\n"
     ]
    }
   ],
   "source": [
    "#Find the length of audio file\n",
    "AUDIO_FILE = 'C:\\\\Users\\\\srkpo\\\\Documents\\\\python_ml\\\\voicedata.wav'\n",
    "audioL = WAVE(AUDIO_FILE)\n",
    "audioLengthInfo = audioL.info\n",
    "audioLength = int(audioLengthInfo.length)\n",
    "print(audioLength)"
   ]
  },
  {
   "cell_type": "code",
   "execution_count": 9,
   "metadata": {},
   "outputs": [
    {
     "name": "stderr",
     "output_type": "stream",
     "text": [
      "C:\\Users\\srkpo\\anaconda3\\lib\\site-packages\\pydub\\utils.py:170: RuntimeWarning: Couldn't find ffmpeg or avconv - defaulting to ffmpeg, but may not work\n",
      "  warn(\"Couldn't find ffmpeg or avconv - defaulting to ffmpeg, but may not work\", RuntimeWarning)\n"
     ]
    },
    {
     "name": "stdout",
     "output_type": "stream",
     "text": [
      "Transcription: then I would you be then the locking this meeting in so that we don't have a participant was once the division of 3 is an instructor that ok what does it or is it ok if people if more people join in the game can you can awesome great I think we have a bird eating people why don't be start off withrules of the game in trouble is that most people would know about it to be playing codename guys it is a fun board game just enjoy yourself said they would just walk you through what the rules are managing the game for us what you want to long meeting on cloud computing units have people join in case you want to end then once we start the middle of it okdefine nowGate Deewana place called coldness and again you all gonna be a Spy agent agent will give it to different ones with the group will Belong To the blues society and the other side of love to read it before explain for the how many of you know the game for play the brain fogAakash send kar going on somewhere a good for most of you will be joining as operative you can see operative near to both of the things will be joining as Cooperative but one among you one among you will be joining usRichie Rich by Master Bablu dablu spymaster and basically the aim of each team figure out what their agents are people in this case the blue team has nine spy agent under 18 as 85\n"
     ]
    }
   ],
   "source": [
    "#transcribing the audio file in wav format\n",
    "from pydub import AudioSegment\n",
    "from pydub.silence import split_on_silence\n",
    "r = sr.Recognizer()                                 # initiated speech instance\n",
    "\n",
    "\n",
    "with sr.AudioFile(AUDIO_FILE) as sourceFile:        \n",
    "    audio1 = r.record(sourceFile, duration = 30)                        # extract audio data from the file\n",
    "    audio2 = r.record(sourceFile, duration = 30)\n",
    "    audio3 = r.record(sourceFile, duration = 30)\n",
    "    audio4 = r.record(sourceFile, duration = 30)\n",
    "    audio5 = r.record(sourceFile, duration = 30)\n",
    "    audio6 = r.record(sourceFile, duration = 20)\n",
    "try:\n",
    "    audioTranscript = (r.recognize_google(audio1) + r.recognize_google(audio2) + r.recognize_google(audio3) \n",
    "                       + r.recognize_google(audio4) + r.recognize_google(audio5) + r.recognize_google(audio6)) # recognize speech using Google Speech Recognition\n",
    "    print(\"Transcription: \" + audioTranscript)\n",
    "                   \n",
    "except LookupError:                                 # speech is unintelligible\n",
    "    print(\"Could not understand audio\")\n"
   ]
  },
  {
   "cell_type": "code",
   "execution_count": 10,
   "metadata": {
    "scrolled": true
   },
   "outputs": [
    {
     "name": "stdout",
     "output_type": "stream",
     "text": [
      "266\n",
      "Unique Words =  147\n",
      "Words spoken per minute = 84.8936170212766\n"
     ]
    }
   ],
   "source": [
    "# No of different words used and number of words spoken per minute\n",
    "listWords = audioTranscript.split(' ')\n",
    "print(len(listWords))\n",
    "print(\"Unique Words = \",len(np.unique(listWords)))\n",
    "print(\"Words spoken per minute =\",(len(listWords)*60/audioLength))"
   ]
  },
  {
   "cell_type": "code",
   "execution_count": 11,
   "metadata": {},
   "outputs": [
    {
     "name": "stdout",
     "output_type": "stream",
     "text": [
      "then : 3\n",
      "I : 2\n",
      "would : 3\n",
      "you : 11\n",
      "be : 7\n",
      "the : 16\n",
      "locking : 1\n",
      "this : 2\n",
      "meeting : 2\n",
      "in : 5\n",
      "so : 1\n",
      "that : 3\n",
      "we : 3\n",
      "don't : 2\n",
      "have : 3\n",
      "a : 5\n",
      "participant : 1\n",
      "was : 1\n",
      "once : 2\n",
      "division : 1\n",
      "of : 8\n",
      "3 : 1\n",
      "is : 4\n",
      "an : 1\n",
      "instructor : 1\n",
      "ok : 2\n",
      "what : 4\n",
      "does : 1\n",
      "it : 7\n",
      "or : 1\n",
      "if : 2\n",
      "people : 6\n",
      "more : 1\n",
      "join : 2\n",
      "game : 5\n",
      "can : 3\n",
      "awesome : 1\n",
      "great : 1\n",
      "think : 1\n",
      "bird : 1\n",
      "eating : 1\n",
      "why : 1\n",
      "start : 2\n",
      "off : 1\n",
      "withrules : 1\n",
      "trouble : 1\n",
      "most : 2\n",
      "know : 2\n",
      "about : 1\n",
      "to : 6\n",
      "playing : 1\n",
      "codename : 1\n",
      "guys : 1\n",
      "fun : 1\n",
      "board : 1\n",
      "just : 2\n",
      "enjoy : 1\n",
      "yourself : 1\n",
      "said : 1\n",
      "they : 1\n",
      "walk : 1\n",
      "through : 1\n",
      "rules : 1\n",
      "are : 2\n",
      "managing : 1\n",
      "for : 4\n",
      "us : 1\n",
      "want : 2\n",
      "long : 1\n",
      "on : 2\n",
      "cloud : 1\n",
      "computing : 1\n",
      "units : 1\n",
      "case : 2\n",
      "end : 1\n",
      "middle : 1\n",
      "okdefine : 1\n",
      "nowGate : 1\n",
      "Deewana : 1\n",
      "place : 1\n",
      "called : 1\n",
      "coldness : 1\n",
      "and : 3\n",
      "again : 1\n",
      "all : 1\n",
      "gonna : 1\n",
      "Spy : 1\n",
      "agent : 3\n",
      "will : 5\n",
      "give : 1\n",
      "different : 1\n",
      "ones : 1\n",
      "with : 1\n",
      "group : 1\n",
      "Belong : 1\n",
      "To : 1\n",
      "blues : 1\n",
      "society : 1\n",
      "other : 1\n",
      "side : 1\n",
      "love : 1\n",
      "read : 1\n",
      "before : 1\n",
      "explain : 1\n",
      "how : 1\n",
      "many : 1\n",
      "play : 1\n",
      "brain : 1\n",
      "fogAakash : 1\n",
      "send : 1\n",
      "kar : 1\n",
      "going : 1\n",
      "somewhere : 1\n",
      "good : 1\n",
      "joining : 3\n",
      "as : 3\n",
      "operative : 2\n",
      "see : 1\n",
      "near : 1\n",
      "both : 1\n",
      "things : 1\n",
      "Cooperative : 1\n",
      "but : 1\n",
      "one : 2\n",
      "among : 2\n",
      "usRichie : 1\n",
      "Rich : 1\n",
      "by : 1\n",
      "Master : 1\n",
      "Bablu : 1\n",
      "dablu : 1\n",
      "spymaster : 1\n",
      "basically : 1\n",
      "aim : 1\n",
      "each : 1\n",
      "team : 2\n",
      "figure : 1\n",
      "out : 1\n",
      "their : 1\n",
      "agents : 1\n",
      "blue : 1\n",
      "has : 1\n",
      "nine : 1\n",
      "spy : 1\n",
      "under : 1\n",
      "18 : 1\n",
      "85 : 1\n"
     ]
    }
   ],
   "source": [
    "# count the frequency of words\n",
    "import string\n",
    "d = dict()\n",
    "# Loop through each line of the file  \n",
    "# Iterate over each word \n",
    "for word in listWords:\n",
    "        # Check if the word is already in dictionary\n",
    "        if word in d:\n",
    "            # Increment count of word by 1\n",
    "            d[word] = d[word] + 1\n",
    "        else:\n",
    "            # Add the word to dictionary with count 1\n",
    "            d[word] = 1\n",
    "for key in list(d.keys()):\n",
    "    print(key, \":\", d[key])\n",
    "\n"
   ]
  },
  {
   "cell_type": "code",
   "execution_count": null,
   "metadata": {
    "scrolled": true
   },
   "outputs": [],
   "source": [
    "#Detect pauses \n",
    "from pydub.silence import split_on_silence\n",
    "speech = AudioSegment.from_file(AUDIO_FILE)\n",
    "\n",
    "#split the file where the silence is 1 seconds or more and get chunks using split_on_silence\n",
    "   \n",
    "chunks = split_on_silence (\n",
    "        # Use the loaded audio.\n",
    "        speech, \n",
    "        # Specify that a silent chunk must be at least 1000 ms long. Otherwords, pause length taken as 1 second.\n",
    "        min_silence_len = 1000,\n",
    "        # Consider a chunk silent if it's quieter than -xx dBFS.\n",
    "        #checking threshold for different valuesit changes after 100 gives constant value\n",
    "        silence_thresh = -100\n",
    ")\n",
    "print(\"Number of Silences for length  is \" , len(chunks))\n",
    "    \n",
    "\n",
    "\n"
   ]
  },
  {
   "cell_type": "code",
   "execution_count": null,
   "metadata": {},
   "outputs": [],
   "source": []
  }
 ],
 "metadata": {
  "kernelspec": {
   "display_name": "Python 3",
   "language": "python",
   "name": "python3"
  },
  "language_info": {
   "codemirror_mode": {
    "name": "ipython",
    "version": 3
   },
   "file_extension": ".py",
   "mimetype": "text/x-python",
   "name": "python",
   "nbconvert_exporter": "python",
   "pygments_lexer": "ipython3",
   "version": "3.8.5"
  }
 },
 "nbformat": 4,
 "nbformat_minor": 4
}
