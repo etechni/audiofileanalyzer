{
 "cells": [
  {
   "cell_type": "markdown",
   "metadata": {},
   "source": [
    "## Analyze the voice note's speech quality indicators,using existing APIs, libraries.\n",
    "#"
   ]
  },
  {
   "cell_type": "code",
   "execution_count": null,
   "metadata": {},
   "outputs": [],
   "source": [
    "#pip install SpeechRecognition "
   ]
  },
  {
   "cell_type": "code",
   "execution_count": null,
   "metadata": {},
   "outputs": [],
   "source": [
    "#pip install pydub\n"
   ]
  },
  {
   "cell_type": "code",
   "execution_count": null,
   "metadata": {},
   "outputs": [],
   "source": [
    "#pip install ffmpy"
   ]
  },
  {
   "cell_type": "code",
   "execution_count": null,
   "metadata": {},
   "outputs": [],
   "source": [
    "#pip install FFmpeg"
   ]
  },
  {
   "cell_type": "code",
   "execution_count": null,
   "metadata": {},
   "outputs": [],
   "source": [
    "pip install mutagen"
   ]
  },
  {
   "cell_type": "code",
   "execution_count": null,
   "metadata": {},
   "outputs": [],
   "source": [
    "import os\n",
    "import numpy as np\n",
    "import mutagen as mg\n",
    "from mutagen.wave import WAVE"
   ]
  },
  {
   "cell_type": "code",
   "execution_count": null,
   "metadata": {},
   "outputs": [],
   "source": [
    "import speech_recognition as sr"
   ]
  },
  {
   "cell_type": "code",
   "execution_count": null,
   "metadata": {},
   "outputs": [],
   "source": [
    "#Find the length of audio file\n",
    "AUDIO_FILE = 'C:\\Users\\srkpo\\Documents\\python_ml\\\voicedata.wav'\n",
    "audioL = WAVE(AUDIO_FILE)\n",
    "audioLengthInfo = audioL.info\n",
    "audioLength = int(audioLengthInfo.length)\n",
    "print(audioLength)"
   ]
  },
  {
   "cell_type": "code",
   "execution_count": null,
   "metadata": {},
   "outputs": [],
   "source": [
    "#transcribing the audio file in wav format\n",
    "from pydub import AudioSegment\n",
    "from pydub.silence import split_on_silence\n",
    "r = sr.Recognizer()                                 # initiated speech instance\n",
    "\n",
    "\n",
    "with sr.AudioFile(AUDIO_FILE) as sourceFile:        \n",
    "    audio1 = r.record(sourceFile, duration = 30)                        # extract audio data from the file\n",
    "    audio2 = r.record(sourceFile, duration = 30)\n",
    "    audio3 = r.record(sourceFile, duration = 30)\n",
    "    audio4 = r.record(sourceFile, duration = 30)\n",
    "    audio5 = r.record(sourceFile, duration = 30)\n",
    "    audio6 = r.record(sourceFile, duration = 20)\n",
    "try:\n",
    "    audioTranscript = (r.recognize_google(audio1) + r.recognize_google(audio2) + r.recognize_google(audio3) \n",
    "                       + r.recognize_google(audio4) + r.recognize_google(audio5) + r.recognize_google(audio6)) # recognize speech using Google Speech Recognition\n",
    "    print(\"Transcription: \" + audioTranscript)\n",
    "                   \n",
    "except LookupError:                                 # speech is unintelligible\n",
    "    print(\"Could not understand audio\")\n"
   ]
  },
  {
   "cell_type": "code",
   "execution_count": null,
   "metadata": {
    "scrolled": true
   },
   "outputs": [],
   "source": [
    "# No of different words used and number of words spoken per minute\n",
    "listWords = audioTranscript.split(' ')\n",
    "print(len(listWords))\n",
    "print(\"Unique Words = \",len(np.unique(listWords)))\n",
    "print(\"Words spoken per minute =\",(len(listWords)*60/audioLength))"
   ]
  },
  {
   "cell_type": "code",
   "execution_count": null,
   "metadata": {},
   "outputs": [],
   "source": [
    "# count the frequency of words\n",
    "import string\n",
    "d = dict()\n",
    "# Loop through each line of the file  \n",
    "# Iterate over each word \n",
    "for word in listWords:\n",
    "        # Check if the word is already in dictionary\n",
    "        if word in d:\n",
    "            # Increment count of word by 1\n",
    "            d[word] = d[word] + 1\n",
    "        else:\n",
    "            # Add the word to dictionary with count 1\n",
    "            d[word] = 1\n",
    "for key in list(d.keys()):\n",
    "    print(key, \":\", d[key])\n",
    "\n"
   ]
  },
  {
   "cell_type": "code",
   "execution_count": null,
   "metadata": {
    "scrolled": true
   },
   "outputs": [],
   "source": [
    "#Detect pauses \n",
    "from pydub.silence import split_on_silence\n",
    "speech = AudioSegment.from_file(AUDIO_FILE)\n",
    "\n",
    "#split the file where the silence is 1 seconds or more and get chunks using split_on_silence\n",
    "   \n",
    "chunks = split_on_silence (\n",
    "        # Use the loaded audio.\n",
    "        speech, \n",
    "        # Specify that a silent chunk must be at least 1000 ms long. Otherwords, pause length taken as 1 second.\n",
    "        min_silence_len = 1000,\n",
    "        # Consider a chunk silent if it's quieter than -xx dBFS.\n",
    "        #checking threshold for different valuesit changes after 100 gives constant value\n",
    "        silence_thresh = -100\n",
    ")\n",
    "print(\"Number of Silences for length  is \" , len(chunks))\n",
    "    \n",
    "\n",
    "\n"
   ]
  },
  {
   "cell_type": "code",
   "execution_count": null,
   "metadata": {},
   "outputs": [],
   "source": []
  }
 ],
 "metadata": {
  "kernelspec": {
   "display_name": "Python 3",
   "language": "python",
   "name": "python3"
  },
  "language_info": {
   "codemirror_mode": {
    "name": "ipython",
    "version": 3
   },
   "file_extension": ".py",
   "mimetype": "text/x-python",
   "name": "python",
   "nbconvert_exporter": "python",
   "pygments_lexer": "ipython3",
   "version": "3.8.5"
  }
 },
 "nbformat": 4,
 "nbformat_minor": 4
}
